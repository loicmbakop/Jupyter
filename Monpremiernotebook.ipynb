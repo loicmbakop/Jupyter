{
 "cells": [
  {
   "cell_type": "code",
   "execution_count": 2,
   "id": "b731300c",
   "metadata": {},
   "outputs": [],
   "source": [
    "import ipywidgets as widgets"
   ]
  },
  {
   "cell_type": "code",
   "execution_count": 3,
   "id": "567ff614",
   "metadata": {},
   "outputs": [],
   "source": [
    "slider=widgets.FloatSlider(\n",
    "    value=5,\n",
    "    min=0,\n",
    "    max=10.0,\n",
    "    step=0.1,\n",
    "    disabled =False,\n",
    "    description='x=',\n",
    "    orientation='horizontal',\n",
    "    continuous_update=True,\n",
    "    readout=True,\n",
    "    readout_format='.1f',)\n",
    "res_placeholder = widgets.Output()\n",
    "def compute_x_2(change):\n",
    "    with res_placeholder:\n",
    "        res_placeholder.clear_output()\n",
    "        print(f\"x^2={float(change['new'])**2}\")\n",
    "\n"
   ]
  },
  {
   "cell_type": "code",
   "execution_count": 4,
   "id": "e576b95c",
   "metadata": {},
   "outputs": [
    {
     "data": {
      "application/vnd.jupyter.widget-view+json": {
       "model_id": "d06287ed711b471bbfa34018efdbca07",
       "version_major": 2,
       "version_minor": 0
      },
      "text/plain": [
       "FloatSlider(value=5.0, description='x=', max=10.0, readout_format='.1f')"
      ]
     },
     "metadata": {},
     "output_type": "display_data"
    },
    {
     "data": {
      "application/vnd.jupyter.widget-view+json": {
       "model_id": "68b9a98f443443af97ac9b81bb2155a8",
       "version_major": 2,
       "version_minor": 0
      },
      "text/plain": [
       "Output()"
      ]
     },
     "metadata": {},
     "output_type": "display_data"
    }
   ],
   "source": [
    "slider.observe(compute_x_2,names='value')\n",
    "display(slider,res_placeholder)"
   ]
  },
  {
   "cell_type": "code",
   "execution_count": null,
   "id": "54a62dbe",
   "metadata": {},
   "outputs": [],
   "source": []
  }
 ],
 "metadata": {
  "celltoolbar": "Éditer les Méta-Données",
  "kernelspec": {
   "display_name": "Python 3 (ipykernel)",
   "language": "python",
   "name": "python3"
  },
  "language_info": {
   "codemirror_mode": {
    "name": "ipython",
    "version": 3
   },
   "file_extension": ".py",
   "mimetype": "text/x-python",
   "name": "python",
   "nbconvert_exporter": "python",
   "pygments_lexer": "ipython3",
   "version": "3.9.7"
  }
 },
 "nbformat": 4,
 "nbformat_minor": 5
}
